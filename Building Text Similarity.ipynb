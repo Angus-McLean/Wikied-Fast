{
 "cells": [
  {
   "cell_type": "markdown",
   "metadata": {},
   "source": [
    "# Building Text Similarity"
   ]
  },
  {
   "cell_type": "markdown",
   "metadata": {},
   "source": [
    "# Initialization"
   ]
  },
  {
   "cell_type": "code",
   "execution_count": 1,
   "metadata": {},
   "outputs": [
    {
     "name": "stdout",
     "output_type": "stream",
     "text": [
      "Requirement already satisfied: wikipedia in /usr/local/anaconda3/lib/python3.7/site-packages (1.4.0)\n",
      "Requirement already satisfied: beautifulsoup4 in /usr/local/anaconda3/lib/python3.7/site-packages (from wikipedia) (4.8.0)\n",
      "Requirement already satisfied: requests<3.0.0,>=2.0.0 in /usr/local/anaconda3/lib/python3.7/site-packages (from wikipedia) (2.22.0)\n",
      "Requirement already satisfied: soupsieve>=1.2 in /usr/local/anaconda3/lib/python3.7/site-packages (from beautifulsoup4->wikipedia) (1.9.3)\n",
      "Requirement already satisfied: urllib3!=1.25.0,!=1.25.1,<1.26,>=1.21.1 in /usr/local/anaconda3/lib/python3.7/site-packages (from requests<3.0.0,>=2.0.0->wikipedia) (1.24.2)\n",
      "Requirement already satisfied: idna<2.9,>=2.5 in /usr/local/anaconda3/lib/python3.7/site-packages (from requests<3.0.0,>=2.0.0->wikipedia) (2.8)\n",
      "Requirement already satisfied: certifi>=2017.4.17 in /usr/local/anaconda3/lib/python3.7/site-packages (from requests<3.0.0,>=2.0.0->wikipedia) (2019.9.11)\n",
      "Requirement already satisfied: chardet<3.1.0,>=3.0.2 in /usr/local/anaconda3/lib/python3.7/site-packages (from requests<3.0.0,>=2.0.0->wikipedia) (3.0.4)\n"
     ]
    }
   ],
   "source": [
    "!pip install wikipedia"
   ]
  },
  {
   "cell_type": "code",
   "execution_count": 2,
   "metadata": {},
   "outputs": [],
   "source": [
    "from sklearn.feature_extraction.text import TfidfVectorizer\n",
    "import wikipedia"
   ]
  },
  {
   "cell_type": "code",
   "execution_count": 6,
   "metadata": {},
   "outputs": [],
   "source": [
    "article_ids = [\n",
    "    'Adam_Smith',\n",
    "    'Bill_Clinton',\n",
    "    'Bill_Gates',\n",
    "    'Economics',\n",
    "    'Free_market'\n",
    "]"
   ]
  },
  {
   "cell_type": "code",
   "execution_count": 7,
   "metadata": {},
   "outputs": [],
   "source": [
    "article_summaries = [wikipedia.summary(artId) for artId in article_ids]"
   ]
  },
  {
   "cell_type": "code",
   "execution_count": 8,
   "metadata": {},
   "outputs": [],
   "source": [
    "tfidf = TfidfVectorizer().fit_transform(article_summaries[:2])\n",
    "pairwise_similarity = tfidf * tfidf.T"
   ]
  },
  {
   "cell_type": "code",
   "execution_count": 11,
   "metadata": {},
   "outputs": [
    {
     "data": {
      "text/plain": [
       "3.240747451406616"
      ]
     },
     "execution_count": 11,
     "metadata": {},
     "output_type": "execute_result"
    }
   ],
   "source": [
    "pairwise_similarity.sum()"
   ]
  },
  {
   "cell_type": "code",
   "execution_count": 12,
   "metadata": {},
   "outputs": [
    {
     "data": {
      "text/plain": [
       "2.905346824130591"
      ]
     },
     "execution_count": 12,
     "metadata": {},
     "output_type": "execute_result"
    }
   ],
   "source": [
    "tfidf = TfidfVectorizer().fit_transform(article_summaries[-2:])\n",
    "pairwise_similarity = tfidf * tfidf.T\n",
    "pairwise_similarity.sum()"
   ]
  },
  {
   "cell_type": "code",
   "execution_count": 14,
   "metadata": {},
   "outputs": [
    {
     "name": "stdout",
     "output_type": "stream",
     "text": [
      "LICENSE          \u001b[34mdatabase\u001b[m\u001b[m         requirements.txt setup.cfg\r\n",
      "README.md        \u001b[34mdocs\u001b[m\u001b[m             \u001b[34mscripts\u001b[m\u001b[m          \u001b[34msketch\u001b[m\u001b[m\r\n",
      "\u001b[34mconfig\u001b[m\u001b[m           \u001b[34menv\u001b[m\u001b[m              \u001b[34msdow\u001b[m\u001b[m             \u001b[34mwebsite\u001b[m\u001b[m\r\n"
     ]
    }
   ],
   "source": [
    "!ls sdow/"
   ]
  },
  {
   "cell_type": "code",
   "execution_count": 15,
   "metadata": {},
   "outputs": [],
   "source": [
    "import pandas as pd"
   ]
  },
  {
   "cell_type": "code",
   "execution_count": 17,
   "metadata": {},
   "outputs": [
    {
     "ename": "ModuleNotFoundError",
     "evalue": "No module named 'file'",
     "output_type": "error",
     "traceback": [
      "\u001b[0;31m---------------------------------------------------------------------------\u001b[0m",
      "\u001b[0;31mModuleNotFoundError\u001b[0m                       Traceback (most recent call last)",
      "\u001b[0;32m<ipython-input-17-f5da65cb6f61>\u001b[0m in \u001b[0;36m<module>\u001b[0;34m\u001b[0m\n\u001b[0;32m----> 1\u001b[0;31m \u001b[0;32mimport\u001b[0m \u001b[0mfile\u001b[0m\u001b[0;34m\u001b[0m\u001b[0;34m\u001b[0m\u001b[0m\n\u001b[0m",
      "\u001b[0;31mModuleNotFoundError\u001b[0m: No module named 'file'"
     ]
    }
   ],
   "source": [
    "import file"
   ]
  },
  {
   "cell_type": "code",
   "execution_count": 85,
   "metadata": {},
   "outputs": [
    {
     "data": {
      "text/plain": [
       "0"
      ]
     },
     "execution_count": 85,
     "metadata": {},
     "output_type": "execute_result"
    }
   ],
   "source": []
  },
  {
   "cell_type": "code",
   "execution_count": 95,
   "metadata": {},
   "outputs": [
    {
     "ename": "NameError",
     "evalue": "name 'msg' is not defined",
     "output_type": "error",
     "traceback": [
      "\u001b[0;31m---------------------------------------------------------------------------\u001b[0m",
      "\u001b[0;31mNameError\u001b[0m                                 Traceback (most recent call last)",
      "\u001b[0;32m<ipython-input-95-033feff961c2>\u001b[0m in \u001b[0;36m<module>\u001b[0;34m\u001b[0m\n\u001b[1;32m      1\u001b[0m \u001b[0mreview_pattern\u001b[0m \u001b[0;34m=\u001b[0m \u001b[0mre\u001b[0m\u001b[0;34m.\u001b[0m\u001b[0mcompile\u001b[0m\u001b[0;34m(\u001b[0m\u001b[0;34m'.*review: (.*)$'\u001b[0m\u001b[0;34m)\u001b[0m\u001b[0;34m\u001b[0m\u001b[0;34m\u001b[0m\u001b[0m\n\u001b[0;32m----> 2\u001b[0;31m \u001b[0murls\u001b[0m \u001b[0;34m=\u001b[0m \u001b[0mreview_pattern\u001b[0m\u001b[0;34m.\u001b[0m\u001b[0mfindall\u001b[0m\u001b[0;34m(\u001b[0m\u001b[0mmsg\u001b[0m\u001b[0;34m)\u001b[0m\u001b[0;34m[\u001b[0m\u001b[0;36m0\u001b[0m\u001b[0;34m]\u001b[0m\u001b[0;34m\u001b[0m\u001b[0;34m\u001b[0m\u001b[0m\n\u001b[0m\u001b[1;32m      3\u001b[0m \u001b[0;34m\u001b[0m\u001b[0m\n\u001b[1;32m      4\u001b[0m \u001b[0ma\u001b[0m \u001b[0;34m=\u001b[0m \u001b[0;34m' '\u001b[0m\u001b[0;34m.\u001b[0m\u001b[0mjoin\u001b[0m\u001b[0;34m(\u001b[0m\u001b[0marrLines\u001b[0m\u001b[0;34m[\u001b[0m\u001b[0;36m0\u001b[0m\u001b[0;34m]\u001b[0m\u001b[0;34m)\u001b[0m\u001b[0;34m\u001b[0m\u001b[0;34m\u001b[0m\u001b[0m\n\u001b[1;32m      5\u001b[0m \u001b[0mre\u001b[0m\u001b[0;34m.\u001b[0m\u001b[0mmatch\u001b[0m\u001b[0;34m(\u001b[0m\u001b[0;34m'.[0-9]+ (?! )+'\u001b[0m\u001b[0;34m,\u001b[0m \u001b[0ma\u001b[0m\u001b[0;34m,\u001b[0m \u001b[0;34m'r'\u001b[0m\u001b[0;34m)\u001b[0m\u001b[0;34m\u001b[0m\u001b[0;34m\u001b[0m\u001b[0m\n",
      "\u001b[0;31mNameError\u001b[0m: name 'msg' is not defined"
     ]
    }
   ],
   "source": [
    "review_pattern = re.compile('.*review: (.*)$')\n",
    "urls = review_pattern.findall(msg)[0]\n",
    "\n",
    "a = ' '.join(arrLines[0])\n",
    "re.match('.[0-9]+ (?! )+', a, 'r')"
   ]
  },
  {
   "cell_type": "code",
   "execution_count": 74,
   "metadata": {},
   "outputs": [
    {
     "data": {
      "text/plain": [
       "' 1814 Adam_Smith \"Adam Smith  (16 June [O.S. 5 June] 1723 – 17 July 1790) was a Scottish economist, philosopher and author as well as a moral philosopher, a pioneer of political economy and a key figure during the Scottish Enlightenment, also known as \\'\\'The Father of Economics\\'\\' or \\'\\'The Father of Capitalism\\'\\'. Smith wrote two classic works, The Theory of Moral Sentiments (1759) and An Inquiry into the Nature and Causes of the Wealth of Nations (1776). The latter, often abbreviated as The Wealth of Nations, is considered his magnum opus and the first modern work of economics. In his work, Adam Smith introduced his theory of absolute advantage.Smith studied social philosophy at the University of Glasgow and at Balliol College, Oxford, where he was one of the first students to benefit from scholarships set up by fellow Scot John Snell. After graduating, he delivered a successful series of public lectures at the University of Edinburgh, leading him to collaborate with David Hume during the Scottish Enlightenment. Smith obtained a professorship at Glasgow, teaching moral philosophy and during this time, wrote and published The Theory of Moral Sentiments. In his later life, he took a tutoring position that allowed him to travel throughout Europe, where he met other intellectual leaders of his day. Smith laid the foundations of classical free market economic theory. The Wealth of Nations was a precursor to the modern academic discipline of economics. In this and other works, he developed the concept of division of labour and expounded upon how rational self-interest and competition can lead to economic prosperity. Smith was controversial in his own day and his general approach and writing style were often satirised by writers such as Horace Walpole.\"\\n'"
      ]
     },
     "execution_count": 74,
     "metadata": {},
     "output_type": "execute_result"
    }
   ],
   "source": [
    "a"
   ]
  },
  {
   "cell_type": "code",
   "execution_count": 53,
   "metadata": {},
   "outputs": [],
   "source": [
    "f = open(\"sdow/database/subset_summaries.csv\", \"r\")\n",
    "\n",
    "arrLines = []\n",
    "for line in f.readlines()[:20]:\n",
    "#     print(line)\n",
    "    arrLines.append(re.split(\"(^\\d+) \", line))\n",
    "    \n",
    "f.close()"
   ]
  },
  {
   "cell_type": "code",
   "execution_count": 62,
   "metadata": {},
   "outputs": [
    {
     "data": {
      "text/plain": [
       "(10, 2)"
      ]
     },
     "metadata": {},
     "output_type": "display_data"
    },
    {
     "data": {
      "text/html": [
       "<div>\n",
       "<style scoped>\n",
       "    .dataframe tbody tr th:only-of-type {\n",
       "        vertical-align: middle;\n",
       "    }\n",
       "\n",
       "    .dataframe tbody tr th {\n",
       "        vertical-align: top;\n",
       "    }\n",
       "\n",
       "    .dataframe thead th {\n",
       "        text-align: right;\n",
       "    }\n",
       "</style>\n",
       "<table border=\"1\" class=\"dataframe\">\n",
       "  <thead>\n",
       "    <tr style=\"text-align: right;\">\n",
       "      <th></th>\n",
       "      <th>nid</th>\n",
       "      <th>pageid</th>\n",
       "    </tr>\n",
       "  </thead>\n",
       "  <tbody>\n",
       "    <tr>\n",
       "      <td>0</td>\n",
       "      <td>1814</td>\n",
       "      <td>Adam_Smith \"Adam Smith  (16 June [O.S. 5 June]...</td>\n",
       "    </tr>\n",
       "    <tr>\n",
       "      <td>1</td>\n",
       "      <td>3356</td>\n",
       "      <td>Bill_Clinton \"William Jefferson Clinton (born ...</td>\n",
       "    </tr>\n",
       "    <tr>\n",
       "      <td>2</td>\n",
       "      <td>3747</td>\n",
       "      <td>Bill_Gates \"William Henry Gates III  (born Oct...</td>\n",
       "    </tr>\n",
       "    <tr>\n",
       "      <td>3</td>\n",
       "      <td>8182</td>\n",
       "      <td>Dwight_D._Eisenhower \"Dwight David \"\"Ike\"\" Eis...</td>\n",
       "    </tr>\n",
       "    <tr>\n",
       "      <td>4</td>\n",
       "      <td>9223</td>\n",
       "      <td>Economics \"Economics () is the social science ...</td>\n",
       "    </tr>\n",
       "    <tr>\n",
       "      <td>5</td>\n",
       "      <td>10979</td>\n",
       "      <td>Franklin_D._Roosevelt \"Franklin Delano Rooseve...</td>\n",
       "    </tr>\n",
       "    <tr>\n",
       "      <td>6</td>\n",
       "      <td>11826</td>\n",
       "      <td>Free_market \"In economics, a free market is a ...</td>\n",
       "    </tr>\n",
       "    <tr>\n",
       "      <td>7</td>\n",
       "      <td>11955</td>\n",
       "      <td>George_H._W._Bush \"George Herbert Walker Bush ...</td>\n",
       "    </tr>\n",
       "    <tr>\n",
       "      <td>8</td>\n",
       "      <td>13765</td>\n",
       "      <td>Henry_Kissinger \"Henry Alfred Kissinger (; Ger...</td>\n",
       "    </tr>\n",
       "    <tr>\n",
       "      <td>9</td>\n",
       "      <td>14567</td>\n",
       "      <td>International_trade \"International trade is th...</td>\n",
       "    </tr>\n",
       "  </tbody>\n",
       "</table>\n",
       "</div>"
      ],
      "text/plain": [
       "     nid                                             pageid\n",
       "0   1814  Adam_Smith \"Adam Smith  (16 June [O.S. 5 June]...\n",
       "1   3356  Bill_Clinton \"William Jefferson Clinton (born ...\n",
       "2   3747  Bill_Gates \"William Henry Gates III  (born Oct...\n",
       "3   8182  Dwight_D._Eisenhower \"Dwight David \"\"Ike\"\" Eis...\n",
       "4   9223  Economics \"Economics () is the social science ...\n",
       "5  10979  Franklin_D._Roosevelt \"Franklin Delano Rooseve...\n",
       "6  11826  Free_market \"In economics, a free market is a ...\n",
       "7  11955  George_H._W._Bush \"George Herbert Walker Bush ...\n",
       "8  13765  Henry_Kissinger \"Henry Alfred Kissinger (; Ger...\n",
       "9  14567  International_trade \"International trade is th..."
      ]
     },
     "execution_count": 62,
     "metadata": {},
     "output_type": "execute_result"
    }
   ],
   "source": [
    "dfSummaries = pd.DataFrame(arrLines, columns=['_empty', 'nid', 'pageid'])\n",
    "dfSummaries = dfSummaries[dfSummaries._empty != '\\n'].drop('_empty', axis=1).reset_index(drop=True)\n",
    "display(dfSummaries.shape)\n",
    "dfSummaries"
   ]
  },
  {
   "cell_type": "code",
   "execution_count": 92,
   "metadata": {},
   "outputs": [],
   "source": [
    "matTfidf = TfidfVectorizer().fit_transform(dfSummaries.pageid)\n",
    "pairwise_similarity = matTfidf * matTfidf.T\n"
   ]
  },
  {
   "cell_type": "code",
   "execution_count": 88,
   "metadata": {},
   "outputs": [],
   "source": [
    "import numpy as np"
   ]
  },
  {
   "cell_type": "code",
   "execution_count": null,
   "metadata": {},
   "outputs": [],
   "source": [
    "dfSummaries.style.background_gradient()"
   ]
  },
  {
   "cell_type": "code",
   "execution_count": 94,
   "metadata": {},
   "outputs": [
    {
     "data": {
      "text/html": [
       "<style  type=\"text/css\" >\n",
       "    #T_287e04bc_08a9_11ea_b165_645aedeaa921row0_col0 {\n",
       "            background-color:  #023858;\n",
       "            color:  #f1f1f1;\n",
       "        }    #T_287e04bc_08a9_11ea_b165_645aedeaa921row0_col1 {\n",
       "            background-color:  #cccfe5;\n",
       "            color:  #000000;\n",
       "        }    #T_287e04bc_08a9_11ea_b165_645aedeaa921row0_col2 {\n",
       "            background-color:  #d9d8ea;\n",
       "            color:  #000000;\n",
       "        }    #T_287e04bc_08a9_11ea_b165_645aedeaa921row0_col3 {\n",
       "            background-color:  #b7c5df;\n",
       "            color:  #000000;\n",
       "        }    #T_287e04bc_08a9_11ea_b165_645aedeaa921row0_col4 {\n",
       "            background-color:  #e9e5f1;\n",
       "            color:  #000000;\n",
       "        }    #T_287e04bc_08a9_11ea_b165_645aedeaa921row0_col5 {\n",
       "            background-color:  #bfc9e1;\n",
       "            color:  #000000;\n",
       "        }    #T_287e04bc_08a9_11ea_b165_645aedeaa921row0_col6 {\n",
       "            background-color:  #e7e3f0;\n",
       "            color:  #000000;\n",
       "        }    #T_287e04bc_08a9_11ea_b165_645aedeaa921row0_col7 {\n",
       "            background-color:  #d9d8ea;\n",
       "            color:  #000000;\n",
       "        }    #T_287e04bc_08a9_11ea_b165_645aedeaa921row0_col8 {\n",
       "            background-color:  #ebe6f2;\n",
       "            color:  #000000;\n",
       "        }    #T_287e04bc_08a9_11ea_b165_645aedeaa921row0_col9 {\n",
       "            background-color:  #fdf5fa;\n",
       "            color:  #000000;\n",
       "        }    #T_287e04bc_08a9_11ea_b165_645aedeaa921row1_col0 {\n",
       "            background-color:  #c5cce3;\n",
       "            color:  #000000;\n",
       "        }    #T_287e04bc_08a9_11ea_b165_645aedeaa921row1_col1 {\n",
       "            background-color:  #023858;\n",
       "            color:  #f1f1f1;\n",
       "        }    #T_287e04bc_08a9_11ea_b165_645aedeaa921row1_col2 {\n",
       "            background-color:  #c6cce3;\n",
       "            color:  #000000;\n",
       "        }    #T_287e04bc_08a9_11ea_b165_645aedeaa921row1_col3 {\n",
       "            background-color:  #83afd3;\n",
       "            color:  #000000;\n",
       "        }    #T_287e04bc_08a9_11ea_b165_645aedeaa921row1_col4 {\n",
       "            background-color:  #f6eff7;\n",
       "            color:  #000000;\n",
       "        }    #T_287e04bc_08a9_11ea_b165_645aedeaa921row1_col5 {\n",
       "            background-color:  #83afd3;\n",
       "            color:  #000000;\n",
       "        }    #T_287e04bc_08a9_11ea_b165_645aedeaa921row1_col6 {\n",
       "            background-color:  #ece7f2;\n",
       "            color:  #000000;\n",
       "        }    #T_287e04bc_08a9_11ea_b165_645aedeaa921row1_col7 {\n",
       "            background-color:  #86b0d3;\n",
       "            color:  #000000;\n",
       "        }    #T_287e04bc_08a9_11ea_b165_645aedeaa921row1_col8 {\n",
       "            background-color:  #d2d2e7;\n",
       "            color:  #000000;\n",
       "        }    #T_287e04bc_08a9_11ea_b165_645aedeaa921row1_col9 {\n",
       "            background-color:  #f8f1f8;\n",
       "            color:  #000000;\n",
       "        }    #T_287e04bc_08a9_11ea_b165_645aedeaa921row2_col0 {\n",
       "            background-color:  #dcdaeb;\n",
       "            color:  #000000;\n",
       "        }    #T_287e04bc_08a9_11ea_b165_645aedeaa921row2_col1 {\n",
       "            background-color:  #d2d2e7;\n",
       "            color:  #000000;\n",
       "        }    #T_287e04bc_08a9_11ea_b165_645aedeaa921row2_col2 {\n",
       "            background-color:  #023858;\n",
       "            color:  #f1f1f1;\n",
       "        }    #T_287e04bc_08a9_11ea_b165_645aedeaa921row2_col3 {\n",
       "            background-color:  #bfc9e1;\n",
       "            color:  #000000;\n",
       "        }    #T_287e04bc_08a9_11ea_b165_645aedeaa921row2_col4 {\n",
       "            background-color:  #fbf3f9;\n",
       "            color:  #000000;\n",
       "        }    #T_287e04bc_08a9_11ea_b165_645aedeaa921row2_col5 {\n",
       "            background-color:  #c6cce3;\n",
       "            color:  #000000;\n",
       "        }    #T_287e04bc_08a9_11ea_b165_645aedeaa921row2_col6 {\n",
       "            background-color:  #f5eef6;\n",
       "            color:  #000000;\n",
       "        }    #T_287e04bc_08a9_11ea_b165_645aedeaa921row2_col7 {\n",
       "            background-color:  #dcdaeb;\n",
       "            color:  #000000;\n",
       "        }    #T_287e04bc_08a9_11ea_b165_645aedeaa921row2_col8 {\n",
       "            background-color:  #ece7f2;\n",
       "            color:  #000000;\n",
       "        }    #T_287e04bc_08a9_11ea_b165_645aedeaa921row2_col9 {\n",
       "            background-color:  #fff7fb;\n",
       "            color:  #000000;\n",
       "        }    #T_287e04bc_08a9_11ea_b165_645aedeaa921row3_col0 {\n",
       "            background-color:  #b4c4df;\n",
       "            color:  #000000;\n",
       "        }    #T_287e04bc_08a9_11ea_b165_645aedeaa921row3_col1 {\n",
       "            background-color:  #86b0d3;\n",
       "            color:  #000000;\n",
       "        }    #T_287e04bc_08a9_11ea_b165_645aedeaa921row3_col2 {\n",
       "            background-color:  #b8c6e0;\n",
       "            color:  #000000;\n",
       "        }    #T_287e04bc_08a9_11ea_b165_645aedeaa921row3_col3 {\n",
       "            background-color:  #023858;\n",
       "            color:  #f1f1f1;\n",
       "        }    #T_287e04bc_08a9_11ea_b165_645aedeaa921row3_col4 {\n",
       "            background-color:  #f5eff6;\n",
       "            color:  #000000;\n",
       "        }    #T_287e04bc_08a9_11ea_b165_645aedeaa921row3_col5 {\n",
       "            background-color:  #67a4cc;\n",
       "            color:  #000000;\n",
       "        }    #T_287e04bc_08a9_11ea_b165_645aedeaa921row3_col6 {\n",
       "            background-color:  #eae6f1;\n",
       "            color:  #000000;\n",
       "        }    #T_287e04bc_08a9_11ea_b165_645aedeaa921row3_col7 {\n",
       "            background-color:  #a4bcda;\n",
       "            color:  #000000;\n",
       "        }    #T_287e04bc_08a9_11ea_b165_645aedeaa921row3_col8 {\n",
       "            background-color:  #c8cde4;\n",
       "            color:  #000000;\n",
       "        }    #T_287e04bc_08a9_11ea_b165_645aedeaa921row3_col9 {\n",
       "            background-color:  #fbf3f9;\n",
       "            color:  #000000;\n",
       "        }    #T_287e04bc_08a9_11ea_b165_645aedeaa921row4_col0 {\n",
       "            background-color:  #e6e2ef;\n",
       "            color:  #000000;\n",
       "        }    #T_287e04bc_08a9_11ea_b165_645aedeaa921row4_col1 {\n",
       "            background-color:  #f7f0f7;\n",
       "            color:  #000000;\n",
       "        }    #T_287e04bc_08a9_11ea_b165_645aedeaa921row4_col2 {\n",
       "            background-color:  #f5eef6;\n",
       "            color:  #000000;\n",
       "        }    #T_287e04bc_08a9_11ea_b165_645aedeaa921row4_col3 {\n",
       "            background-color:  #f4eef6;\n",
       "            color:  #000000;\n",
       "        }    #T_287e04bc_08a9_11ea_b165_645aedeaa921row4_col4 {\n",
       "            background-color:  #023858;\n",
       "            color:  #f1f1f1;\n",
       "        }    #T_287e04bc_08a9_11ea_b165_645aedeaa921row4_col5 {\n",
       "            background-color:  #f0eaf4;\n",
       "            color:  #000000;\n",
       "        }    #T_287e04bc_08a9_11ea_b165_645aedeaa921row4_col6 {\n",
       "            background-color:  #f1ebf4;\n",
       "            color:  #000000;\n",
       "        }    #T_287e04bc_08a9_11ea_b165_645aedeaa921row4_col7 {\n",
       "            background-color:  #f9f2f8;\n",
       "            color:  #000000;\n",
       "        }    #T_287e04bc_08a9_11ea_b165_645aedeaa921row4_col8 {\n",
       "            background-color:  #fcf4fa;\n",
       "            color:  #000000;\n",
       "        }    #T_287e04bc_08a9_11ea_b165_645aedeaa921row4_col9 {\n",
       "            background-color:  #faf2f8;\n",
       "            color:  #000000;\n",
       "        }    #T_287e04bc_08a9_11ea_b165_645aedeaa921row5_col0 {\n",
       "            background-color:  #b8c6e0;\n",
       "            color:  #000000;\n",
       "        }    #T_287e04bc_08a9_11ea_b165_645aedeaa921row5_col1 {\n",
       "            background-color:  #83afd3;\n",
       "            color:  #000000;\n",
       "        }    #T_287e04bc_08a9_11ea_b165_645aedeaa921row5_col2 {\n",
       "            background-color:  #bbc7e0;\n",
       "            color:  #000000;\n",
       "        }    #T_287e04bc_08a9_11ea_b165_645aedeaa921row5_col3 {\n",
       "            background-color:  #63a2cb;\n",
       "            color:  #000000;\n",
       "        }    #T_287e04bc_08a9_11ea_b165_645aedeaa921row5_col4 {\n",
       "            background-color:  #eee9f3;\n",
       "            color:  #000000;\n",
       "        }    #T_287e04bc_08a9_11ea_b165_645aedeaa921row5_col5 {\n",
       "            background-color:  #023858;\n",
       "            color:  #f1f1f1;\n",
       "        }    #T_287e04bc_08a9_11ea_b165_645aedeaa921row5_col6 {\n",
       "            background-color:  #e3e0ee;\n",
       "            color:  #000000;\n",
       "        }    #T_287e04bc_08a9_11ea_b165_645aedeaa921row5_col7 {\n",
       "            background-color:  #97b7d7;\n",
       "            color:  #000000;\n",
       "        }    #T_287e04bc_08a9_11ea_b165_645aedeaa921row5_col8 {\n",
       "            background-color:  #c2cbe2;\n",
       "            color:  #000000;\n",
       "        }    #T_287e04bc_08a9_11ea_b165_645aedeaa921row5_col9 {\n",
       "            background-color:  #f8f1f8;\n",
       "            color:  #000000;\n",
       "        }    #T_287e04bc_08a9_11ea_b165_645aedeaa921row6_col0 {\n",
       "            background-color:  #e0deed;\n",
       "            color:  #000000;\n",
       "        }    #T_287e04bc_08a9_11ea_b165_645aedeaa921row6_col1 {\n",
       "            background-color:  #eae6f1;\n",
       "            color:  #000000;\n",
       "        }    #T_287e04bc_08a9_11ea_b165_645aedeaa921row6_col2 {\n",
       "            background-color:  #ede8f3;\n",
       "            color:  #000000;\n",
       "        }    #T_287e04bc_08a9_11ea_b165_645aedeaa921row6_col3 {\n",
       "            background-color:  #e5e1ef;\n",
       "            color:  #000000;\n",
       "        }    #T_287e04bc_08a9_11ea_b165_645aedeaa921row6_col4 {\n",
       "            background-color:  #eee9f3;\n",
       "            color:  #000000;\n",
       "        }    #T_287e04bc_08a9_11ea_b165_645aedeaa921row6_col5 {\n",
       "            background-color:  #e1dfed;\n",
       "            color:  #000000;\n",
       "        }    #T_287e04bc_08a9_11ea_b165_645aedeaa921row6_col6 {\n",
       "            background-color:  #023858;\n",
       "            color:  #f1f1f1;\n",
       "        }    #T_287e04bc_08a9_11ea_b165_645aedeaa921row6_col7 {\n",
       "            background-color:  #eee9f3;\n",
       "            color:  #000000;\n",
       "        }    #T_287e04bc_08a9_11ea_b165_645aedeaa921row6_col8 {\n",
       "            background-color:  #f4edf6;\n",
       "            color:  #000000;\n",
       "        }    #T_287e04bc_08a9_11ea_b165_645aedeaa921row6_col9 {\n",
       "            background-color:  #f7f0f7;\n",
       "            color:  #000000;\n",
       "        }    #T_287e04bc_08a9_11ea_b165_645aedeaa921row7_col0 {\n",
       "            background-color:  #d9d8ea;\n",
       "            color:  #000000;\n",
       "        }    #T_287e04bc_08a9_11ea_b165_645aedeaa921row7_col1 {\n",
       "            background-color:  #8eb3d5;\n",
       "            color:  #000000;\n",
       "        }    #T_287e04bc_08a9_11ea_b165_645aedeaa921row7_col2 {\n",
       "            background-color:  #d9d8ea;\n",
       "            color:  #000000;\n",
       "        }    #T_287e04bc_08a9_11ea_b165_645aedeaa921row7_col3 {\n",
       "            background-color:  #a7bddb;\n",
       "            color:  #000000;\n",
       "        }    #T_287e04bc_08a9_11ea_b165_645aedeaa921row7_col4 {\n",
       "            background-color:  #fdf5fa;\n",
       "            color:  #000000;\n",
       "        }    #T_287e04bc_08a9_11ea_b165_645aedeaa921row7_col5 {\n",
       "            background-color:  #9fbad9;\n",
       "            color:  #000000;\n",
       "        }    #T_287e04bc_08a9_11ea_b165_645aedeaa921row7_col6 {\n",
       "            background-color:  #f4eef6;\n",
       "            color:  #000000;\n",
       "        }    #T_287e04bc_08a9_11ea_b165_645aedeaa921row7_col7 {\n",
       "            background-color:  #023858;\n",
       "            color:  #f1f1f1;\n",
       "        }    #T_287e04bc_08a9_11ea_b165_645aedeaa921row7_col8 {\n",
       "            background-color:  #e0dded;\n",
       "            color:  #000000;\n",
       "        }    #T_287e04bc_08a9_11ea_b165_645aedeaa921row7_col9 {\n",
       "            background-color:  #fef6fa;\n",
       "            color:  #000000;\n",
       "        }    #T_287e04bc_08a9_11ea_b165_645aedeaa921row8_col0 {\n",
       "            background-color:  #eae6f1;\n",
       "            color:  #000000;\n",
       "        }    #T_287e04bc_08a9_11ea_b165_645aedeaa921row8_col1 {\n",
       "            background-color:  #d6d6e9;\n",
       "            color:  #000000;\n",
       "        }    #T_287e04bc_08a9_11ea_b165_645aedeaa921row8_col2 {\n",
       "            background-color:  #e7e3f0;\n",
       "            color:  #000000;\n",
       "        }    #T_287e04bc_08a9_11ea_b165_645aedeaa921row8_col3 {\n",
       "            background-color:  #c9cee4;\n",
       "            color:  #000000;\n",
       "        }    #T_287e04bc_08a9_11ea_b165_645aedeaa921row8_col4 {\n",
       "            background-color:  #fff7fb;\n",
       "            color:  #000000;\n",
       "        }    #T_287e04bc_08a9_11ea_b165_645aedeaa921row8_col5 {\n",
       "            background-color:  #c8cde4;\n",
       "            color:  #000000;\n",
       "        }    #T_287e04bc_08a9_11ea_b165_645aedeaa921row8_col6 {\n",
       "            background-color:  #f8f1f8;\n",
       "            color:  #000000;\n",
       "        }    #T_287e04bc_08a9_11ea_b165_645aedeaa921row8_col7 {\n",
       "            background-color:  #dddbec;\n",
       "            color:  #000000;\n",
       "        }    #T_287e04bc_08a9_11ea_b165_645aedeaa921row8_col8 {\n",
       "            background-color:  #023858;\n",
       "            color:  #f1f1f1;\n",
       "        }    #T_287e04bc_08a9_11ea_b165_645aedeaa921row8_col9 {\n",
       "            background-color:  #fcf4fa;\n",
       "            color:  #000000;\n",
       "        }    #T_287e04bc_08a9_11ea_b165_645aedeaa921row9_col0 {\n",
       "            background-color:  #fff7fb;\n",
       "            color:  #000000;\n",
       "        }    #T_287e04bc_08a9_11ea_b165_645aedeaa921row9_col1 {\n",
       "            background-color:  #fff7fb;\n",
       "            color:  #000000;\n",
       "        }    #T_287e04bc_08a9_11ea_b165_645aedeaa921row9_col2 {\n",
       "            background-color:  #fff7fb;\n",
       "            color:  #000000;\n",
       "        }    #T_287e04bc_08a9_11ea_b165_645aedeaa921row9_col3 {\n",
       "            background-color:  #fff7fb;\n",
       "            color:  #000000;\n",
       "        }    #T_287e04bc_08a9_11ea_b165_645aedeaa921row9_col4 {\n",
       "            background-color:  #fff7fb;\n",
       "            color:  #000000;\n",
       "        }    #T_287e04bc_08a9_11ea_b165_645aedeaa921row9_col5 {\n",
       "            background-color:  #fff7fb;\n",
       "            color:  #000000;\n",
       "        }    #T_287e04bc_08a9_11ea_b165_645aedeaa921row9_col6 {\n",
       "            background-color:  #fff7fb;\n",
       "            color:  #000000;\n",
       "        }    #T_287e04bc_08a9_11ea_b165_645aedeaa921row9_col7 {\n",
       "            background-color:  #fff7fb;\n",
       "            color:  #000000;\n",
       "        }    #T_287e04bc_08a9_11ea_b165_645aedeaa921row9_col8 {\n",
       "            background-color:  #fff7fb;\n",
       "            color:  #000000;\n",
       "        }    #T_287e04bc_08a9_11ea_b165_645aedeaa921row9_col9 {\n",
       "            background-color:  #023858;\n",
       "            color:  #f1f1f1;\n",
       "        }</style><table id=\"T_287e04bc_08a9_11ea_b165_645aedeaa921\" ><thead>    <tr>        <th class=\"blank level0\" ></th>        <th class=\"col_heading level0 col0\" >0</th>        <th class=\"col_heading level0 col1\" >1</th>        <th class=\"col_heading level0 col2\" >2</th>        <th class=\"col_heading level0 col3\" >3</th>        <th class=\"col_heading level0 col4\" >4</th>        <th class=\"col_heading level0 col5\" >5</th>        <th class=\"col_heading level0 col6\" >6</th>        <th class=\"col_heading level0 col7\" >7</th>        <th class=\"col_heading level0 col8\" >8</th>        <th class=\"col_heading level0 col9\" >9</th>    </tr></thead><tbody>\n",
       "                <tr>\n",
       "                        <th id=\"T_287e04bc_08a9_11ea_b165_645aedeaa921level0_row0\" class=\"row_heading level0 row0\" >0</th>\n",
       "                        <td id=\"T_287e04bc_08a9_11ea_b165_645aedeaa921row0_col0\" class=\"data row0 col0\" >1</td>\n",
       "                        <td id=\"T_287e04bc_08a9_11ea_b165_645aedeaa921row0_col1\" class=\"data row0 col1\" >0.413442</td>\n",
       "                        <td id=\"T_287e04bc_08a9_11ea_b165_645aedeaa921row0_col2\" class=\"data row0 col2\" >0.342691</td>\n",
       "                        <td id=\"T_287e04bc_08a9_11ea_b165_645aedeaa921row0_col3\" class=\"data row0 col3\" >0.454026</td>\n",
       "                        <td id=\"T_287e04bc_08a9_11ea_b165_645aedeaa921row0_col4\" class=\"data row0 col4\" >0.307186</td>\n",
       "                        <td id=\"T_287e04bc_08a9_11ea_b165_645aedeaa921row0_col5\" class=\"data row0 col5\" >0.443706</td>\n",
       "                        <td id=\"T_287e04bc_08a9_11ea_b165_645aedeaa921row0_col6\" class=\"data row0 col6\" >0.327578</td>\n",
       "                        <td id=\"T_287e04bc_08a9_11ea_b165_645aedeaa921row0_col7\" class=\"data row0 col7\" >0.351035</td>\n",
       "                        <td id=\"T_287e04bc_08a9_11ea_b165_645aedeaa921row0_col8\" class=\"data row0 col8\" >0.28984</td>\n",
       "                        <td id=\"T_287e04bc_08a9_11ea_b165_645aedeaa921row0_col9\" class=\"data row0 col9\" >0.181025</td>\n",
       "            </tr>\n",
       "            <tr>\n",
       "                        <th id=\"T_287e04bc_08a9_11ea_b165_645aedeaa921level0_row1\" class=\"row_heading level0 row1\" >1</th>\n",
       "                        <td id=\"T_287e04bc_08a9_11ea_b165_645aedeaa921row1_col0\" class=\"data row1 col0\" >0.413442</td>\n",
       "                        <td id=\"T_287e04bc_08a9_11ea_b165_645aedeaa921row1_col1\" class=\"data row1 col1\" >1</td>\n",
       "                        <td id=\"T_287e04bc_08a9_11ea_b165_645aedeaa921row1_col2\" class=\"data row1 col2\" >0.399569</td>\n",
       "                        <td id=\"T_287e04bc_08a9_11ea_b165_645aedeaa921row1_col3\" class=\"data row1 col3\" >0.564972</td>\n",
       "                        <td id=\"T_287e04bc_08a9_11ea_b165_645aedeaa921row1_col4\" class=\"data row1 col4\" >0.245153</td>\n",
       "                        <td id=\"T_287e04bc_08a9_11ea_b165_645aedeaa921row1_col5\" class=\"data row1 col5\" >0.571397</td>\n",
       "                        <td id=\"T_287e04bc_08a9_11ea_b165_645aedeaa921row1_col6\" class=\"data row1 col6\" >0.309988</td>\n",
       "                        <td id=\"T_287e04bc_08a9_11ea_b165_645aedeaa921row1_col7\" class=\"data row1 col7\" >0.550832</td>\n",
       "                        <td id=\"T_287e04bc_08a9_11ea_b165_645aedeaa921row1_col8\" class=\"data row1 col8\" >0.382949</td>\n",
       "                        <td id=\"T_287e04bc_08a9_11ea_b165_645aedeaa921row1_col9\" class=\"data row1 col9\" >0.203786</td>\n",
       "            </tr>\n",
       "            <tr>\n",
       "                        <th id=\"T_287e04bc_08a9_11ea_b165_645aedeaa921level0_row2\" class=\"row_heading level0 row2\" >2</th>\n",
       "                        <td id=\"T_287e04bc_08a9_11ea_b165_645aedeaa921row2_col0\" class=\"data row2 col0\" >0.342691</td>\n",
       "                        <td id=\"T_287e04bc_08a9_11ea_b165_645aedeaa921row2_col1\" class=\"data row2 col1\" >0.399569</td>\n",
       "                        <td id=\"T_287e04bc_08a9_11ea_b165_645aedeaa921row2_col2\" class=\"data row2 col2\" >1</td>\n",
       "                        <td id=\"T_287e04bc_08a9_11ea_b165_645aedeaa921row2_col3\" class=\"data row2 col3\" >0.434845</td>\n",
       "                        <td id=\"T_287e04bc_08a9_11ea_b165_645aedeaa921row2_col4\" class=\"data row2 col4\" >0.222044</td>\n",
       "                        <td id=\"T_287e04bc_08a9_11ea_b165_645aedeaa921row2_col5\" class=\"data row2 col5\" >0.426248</td>\n",
       "                        <td id=\"T_287e04bc_08a9_11ea_b165_645aedeaa921row2_col6\" class=\"data row2 col6\" >0.264118</td>\n",
       "                        <td id=\"T_287e04bc_08a9_11ea_b165_645aedeaa921row2_col7\" class=\"data row2 col7\" >0.338502</td>\n",
       "                        <td id=\"T_287e04bc_08a9_11ea_b165_645aedeaa921row2_col8\" class=\"data row2 col8\" >0.288769</td>\n",
       "                        <td id=\"T_287e04bc_08a9_11ea_b165_645aedeaa921row2_col9\" class=\"data row2 col9\" >0.164899</td>\n",
       "            </tr>\n",
       "            <tr>\n",
       "                        <th id=\"T_287e04bc_08a9_11ea_b165_645aedeaa921level0_row3\" class=\"row_heading level0 row3\" >3</th>\n",
       "                        <td id=\"T_287e04bc_08a9_11ea_b165_645aedeaa921row3_col0\" class=\"data row3 col0\" >0.454026</td>\n",
       "                        <td id=\"T_287e04bc_08a9_11ea_b165_645aedeaa921row3_col1\" class=\"data row3 col1\" >0.564972</td>\n",
       "                        <td id=\"T_287e04bc_08a9_11ea_b165_645aedeaa921row3_col2\" class=\"data row3 col2\" >0.434845</td>\n",
       "                        <td id=\"T_287e04bc_08a9_11ea_b165_645aedeaa921row3_col3\" class=\"data row3 col3\" >1</td>\n",
       "                        <td id=\"T_287e04bc_08a9_11ea_b165_645aedeaa921row3_col4\" class=\"data row3 col4\" >0.24815</td>\n",
       "                        <td id=\"T_287e04bc_08a9_11ea_b165_645aedeaa921row3_col5\" class=\"data row3 col5\" >0.621431</td>\n",
       "                        <td id=\"T_287e04bc_08a9_11ea_b165_645aedeaa921row3_col6\" class=\"data row3 col6\" >0.318293</td>\n",
       "                        <td id=\"T_287e04bc_08a9_11ea_b165_645aedeaa921row3_col7\" class=\"data row3 col7\" >0.490276</td>\n",
       "                        <td id=\"T_287e04bc_08a9_11ea_b165_645aedeaa921row3_col8\" class=\"data row3 col8\" >0.408197</td>\n",
       "                        <td id=\"T_287e04bc_08a9_11ea_b165_645aedeaa921row3_col9\" class=\"data row3 col9\" >0.189376</td>\n",
       "            </tr>\n",
       "            <tr>\n",
       "                        <th id=\"T_287e04bc_08a9_11ea_b165_645aedeaa921level0_row4\" class=\"row_heading level0 row4\" >4</th>\n",
       "                        <td id=\"T_287e04bc_08a9_11ea_b165_645aedeaa921row4_col0\" class=\"data row4 col0\" >0.307186</td>\n",
       "                        <td id=\"T_287e04bc_08a9_11ea_b165_645aedeaa921row4_col1\" class=\"data row4 col1\" >0.245153</td>\n",
       "                        <td id=\"T_287e04bc_08a9_11ea_b165_645aedeaa921row4_col2\" class=\"data row4 col2\" >0.222044</td>\n",
       "                        <td id=\"T_287e04bc_08a9_11ea_b165_645aedeaa921row4_col3\" class=\"data row4 col3\" >0.24815</td>\n",
       "                        <td id=\"T_287e04bc_08a9_11ea_b165_645aedeaa921row4_col4\" class=\"data row4 col4\" >1</td>\n",
       "                        <td id=\"T_287e04bc_08a9_11ea_b165_645aedeaa921row4_col5\" class=\"data row4 col5\" >0.28727</td>\n",
       "                        <td id=\"T_287e04bc_08a9_11ea_b165_645aedeaa921row4_col6\" class=\"data row4 col6\" >0.285446</td>\n",
       "                        <td id=\"T_287e04bc_08a9_11ea_b165_645aedeaa921row4_col7\" class=\"data row4 col7\" >0.207652</td>\n",
       "                        <td id=\"T_287e04bc_08a9_11ea_b165_645aedeaa921row4_col8\" class=\"data row4 col8\" >0.20018</td>\n",
       "                        <td id=\"T_287e04bc_08a9_11ea_b165_645aedeaa921row4_col9\" class=\"data row4 col9\" >0.197055</td>\n",
       "            </tr>\n",
       "            <tr>\n",
       "                        <th id=\"T_287e04bc_08a9_11ea_b165_645aedeaa921level0_row5\" class=\"row_heading level0 row5\" >5</th>\n",
       "                        <td id=\"T_287e04bc_08a9_11ea_b165_645aedeaa921row5_col0\" class=\"data row5 col0\" >0.443706</td>\n",
       "                        <td id=\"T_287e04bc_08a9_11ea_b165_645aedeaa921row5_col1\" class=\"data row5 col1\" >0.571397</td>\n",
       "                        <td id=\"T_287e04bc_08a9_11ea_b165_645aedeaa921row5_col2\" class=\"data row5 col2\" >0.426248</td>\n",
       "                        <td id=\"T_287e04bc_08a9_11ea_b165_645aedeaa921row5_col3\" class=\"data row5 col3\" >0.621431</td>\n",
       "                        <td id=\"T_287e04bc_08a9_11ea_b165_645aedeaa921row5_col4\" class=\"data row5 col4\" >0.28727</td>\n",
       "                        <td id=\"T_287e04bc_08a9_11ea_b165_645aedeaa921row5_col5\" class=\"data row5 col5\" >1</td>\n",
       "                        <td id=\"T_287e04bc_08a9_11ea_b165_645aedeaa921row5_col6\" class=\"data row5 col6\" >0.342282</td>\n",
       "                        <td id=\"T_287e04bc_08a9_11ea_b165_645aedeaa921row5_col7\" class=\"data row5 col7\" >0.51586</td>\n",
       "                        <td id=\"T_287e04bc_08a9_11ea_b165_645aedeaa921row5_col8\" class=\"data row5 col8\" >0.422078</td>\n",
       "                        <td id=\"T_287e04bc_08a9_11ea_b165_645aedeaa921row5_col9\" class=\"data row5 col9\" >0.203397</td>\n",
       "            </tr>\n",
       "            <tr>\n",
       "                        <th id=\"T_287e04bc_08a9_11ea_b165_645aedeaa921level0_row6\" class=\"row_heading level0 row6\" >6</th>\n",
       "                        <td id=\"T_287e04bc_08a9_11ea_b165_645aedeaa921row6_col0\" class=\"data row6 col0\" >0.327578</td>\n",
       "                        <td id=\"T_287e04bc_08a9_11ea_b165_645aedeaa921row6_col1\" class=\"data row6 col1\" >0.309988</td>\n",
       "                        <td id=\"T_287e04bc_08a9_11ea_b165_645aedeaa921row6_col2\" class=\"data row6 col2\" >0.264118</td>\n",
       "                        <td id=\"T_287e04bc_08a9_11ea_b165_645aedeaa921row6_col3\" class=\"data row6 col3\" >0.318293</td>\n",
       "                        <td id=\"T_287e04bc_08a9_11ea_b165_645aedeaa921row6_col4\" class=\"data row6 col4\" >0.285446</td>\n",
       "                        <td id=\"T_287e04bc_08a9_11ea_b165_645aedeaa921row6_col5\" class=\"data row6 col5\" >0.342282</td>\n",
       "                        <td id=\"T_287e04bc_08a9_11ea_b165_645aedeaa921row6_col6\" class=\"data row6 col6\" >1</td>\n",
       "                        <td id=\"T_287e04bc_08a9_11ea_b165_645aedeaa921row6_col7\" class=\"data row6 col7\" >0.266711</td>\n",
       "                        <td id=\"T_287e04bc_08a9_11ea_b165_645aedeaa921row6_col8\" class=\"data row6 col8\" >0.247503</td>\n",
       "                        <td id=\"T_287e04bc_08a9_11ea_b165_645aedeaa921row6_col9\" class=\"data row6 col9\" >0.21096</td>\n",
       "            </tr>\n",
       "            <tr>\n",
       "                        <th id=\"T_287e04bc_08a9_11ea_b165_645aedeaa921level0_row7\" class=\"row_heading level0 row7\" >7</th>\n",
       "                        <td id=\"T_287e04bc_08a9_11ea_b165_645aedeaa921row7_col0\" class=\"data row7 col0\" >0.351035</td>\n",
       "                        <td id=\"T_287e04bc_08a9_11ea_b165_645aedeaa921row7_col1\" class=\"data row7 col1\" >0.550832</td>\n",
       "                        <td id=\"T_287e04bc_08a9_11ea_b165_645aedeaa921row7_col2\" class=\"data row7 col2\" >0.338502</td>\n",
       "                        <td id=\"T_287e04bc_08a9_11ea_b165_645aedeaa921row7_col3\" class=\"data row7 col3\" >0.490276</td>\n",
       "                        <td id=\"T_287e04bc_08a9_11ea_b165_645aedeaa921row7_col4\" class=\"data row7 col4\" >0.207652</td>\n",
       "                        <td id=\"T_287e04bc_08a9_11ea_b165_645aedeaa921row7_col5\" class=\"data row7 col5\" >0.51586</td>\n",
       "                        <td id=\"T_287e04bc_08a9_11ea_b165_645aedeaa921row7_col6\" class=\"data row7 col6\" >0.266711</td>\n",
       "                        <td id=\"T_287e04bc_08a9_11ea_b165_645aedeaa921row7_col7\" class=\"data row7 col7\" >1</td>\n",
       "                        <td id=\"T_287e04bc_08a9_11ea_b165_645aedeaa921row7_col8\" class=\"data row7 col8\" >0.332329</td>\n",
       "                        <td id=\"T_287e04bc_08a9_11ea_b165_645aedeaa921row7_col9\" class=\"data row7 col9\" >0.174205</td>\n",
       "            </tr>\n",
       "            <tr>\n",
       "                        <th id=\"T_287e04bc_08a9_11ea_b165_645aedeaa921level0_row8\" class=\"row_heading level0 row8\" >8</th>\n",
       "                        <td id=\"T_287e04bc_08a9_11ea_b165_645aedeaa921row8_col0\" class=\"data row8 col0\" >0.28984</td>\n",
       "                        <td id=\"T_287e04bc_08a9_11ea_b165_645aedeaa921row8_col1\" class=\"data row8 col1\" >0.382949</td>\n",
       "                        <td id=\"T_287e04bc_08a9_11ea_b165_645aedeaa921row8_col2\" class=\"data row8 col2\" >0.288769</td>\n",
       "                        <td id=\"T_287e04bc_08a9_11ea_b165_645aedeaa921row8_col3\" class=\"data row8 col3\" >0.408197</td>\n",
       "                        <td id=\"T_287e04bc_08a9_11ea_b165_645aedeaa921row8_col4\" class=\"data row8 col4\" >0.20018</td>\n",
       "                        <td id=\"T_287e04bc_08a9_11ea_b165_645aedeaa921row8_col5\" class=\"data row8 col5\" >0.422078</td>\n",
       "                        <td id=\"T_287e04bc_08a9_11ea_b165_645aedeaa921row8_col6\" class=\"data row8 col6\" >0.247503</td>\n",
       "                        <td id=\"T_287e04bc_08a9_11ea_b165_645aedeaa921row8_col7\" class=\"data row8 col7\" >0.332329</td>\n",
       "                        <td id=\"T_287e04bc_08a9_11ea_b165_645aedeaa921row8_col8\" class=\"data row8 col8\" >1</td>\n",
       "                        <td id=\"T_287e04bc_08a9_11ea_b165_645aedeaa921row8_col9\" class=\"data row8 col9\" >0.183939</td>\n",
       "            </tr>\n",
       "            <tr>\n",
       "                        <th id=\"T_287e04bc_08a9_11ea_b165_645aedeaa921level0_row9\" class=\"row_heading level0 row9\" >9</th>\n",
       "                        <td id=\"T_287e04bc_08a9_11ea_b165_645aedeaa921row9_col0\" class=\"data row9 col0\" >0.181025</td>\n",
       "                        <td id=\"T_287e04bc_08a9_11ea_b165_645aedeaa921row9_col1\" class=\"data row9 col1\" >0.203786</td>\n",
       "                        <td id=\"T_287e04bc_08a9_11ea_b165_645aedeaa921row9_col2\" class=\"data row9 col2\" >0.164899</td>\n",
       "                        <td id=\"T_287e04bc_08a9_11ea_b165_645aedeaa921row9_col3\" class=\"data row9 col3\" >0.189376</td>\n",
       "                        <td id=\"T_287e04bc_08a9_11ea_b165_645aedeaa921row9_col4\" class=\"data row9 col4\" >0.197055</td>\n",
       "                        <td id=\"T_287e04bc_08a9_11ea_b165_645aedeaa921row9_col5\" class=\"data row9 col5\" >0.203397</td>\n",
       "                        <td id=\"T_287e04bc_08a9_11ea_b165_645aedeaa921row9_col6\" class=\"data row9 col6\" >0.21096</td>\n",
       "                        <td id=\"T_287e04bc_08a9_11ea_b165_645aedeaa921row9_col7\" class=\"data row9 col7\" >0.174205</td>\n",
       "                        <td id=\"T_287e04bc_08a9_11ea_b165_645aedeaa921row9_col8\" class=\"data row9 col8\" >0.183939</td>\n",
       "                        <td id=\"T_287e04bc_08a9_11ea_b165_645aedeaa921row9_col9\" class=\"data row9 col9\" >1</td>\n",
       "            </tr>\n",
       "    </tbody></table>"
      ],
      "text/plain": [
       "<pandas.io.formats.style.Styler at 0x1a20127e10>"
      ]
     },
     "execution_count": 94,
     "metadata": {},
     "output_type": "execute_result"
    }
   ],
   "source": [
    "pd.DataFrame(pairwise_similarity.toarray()).style.background_gradient()"
   ]
  }
 ],
 "metadata": {
  "kernelspec": {
   "display_name": "Python 3",
   "language": "python",
   "name": "python3"
  },
  "language_info": {
   "codemirror_mode": {
    "name": "ipython",
    "version": 3
   },
   "file_extension": ".py",
   "mimetype": "text/x-python",
   "name": "python",
   "nbconvert_exporter": "python",
   "pygments_lexer": "ipython3",
   "version": "3.7.4"
  },
  "toc": {
   "base_numbering": 1,
   "nav_menu": {},
   "number_sections": true,
   "sideBar": true,
   "skip_h1_title": false,
   "title_cell": "Table of Contents",
   "title_sidebar": "Contents",
   "toc_cell": false,
   "toc_position": {
    "height": "calc(100% - 180px)",
    "left": "10px",
    "top": "150px",
    "width": "214.238px"
   },
   "toc_section_display": true,
   "toc_window_display": true
  }
 },
 "nbformat": 4,
 "nbformat_minor": 2
}
